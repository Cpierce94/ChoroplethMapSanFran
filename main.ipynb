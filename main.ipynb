#Import numpy and pandas
import numpy as np
import pandas as pd

#Import folium
!conda install -c conda-forge folium=0.5.0 --yes
import folium

print('Folium installed and imported!')

#Reads the csv file
df_crime = pd.read_csv('https://cocl.us/sanfran_crime_dataset')

print('Data downloaded and read into a dataframe!')

#Prints the shape of the data
print(df_crime.shape)

#Gets rid of the unncessary columns
df_crime.drop(['IncidntNum','Category','Descript','DayOfWeek','Date','Time', 'Resolution','Address','PdId', 'X', 'Y', 'Location',], axis=1, inplace=True)

#Groups the remaining column by distinct neighborhoods and counts the amount of crimes in that neighborhood
df_crime.head()
grouped = df_crime.groupby('Neighborhood').size().to_frame('Count')

#Sorts the df by the count
grouped.sort_values('Count', ascending=False).reset_index()

#Gets the json file
!wget --quiet https://cocl.us/sanfran_geojson -O san_countries.json
    
print('GeoJSON file downloaded!')

# geojson file
geo = r'san_fran.json' 

latitude = 37.77
longitude = -122.42

# create map and display it
sanfran_map = folium.Map(location=[latitude, longitude], zoom_start=12)

# display the map of San Francisco
sanfran_map

geo = r'san_fran.json'

# generate choropleth map using the Crime rate of neighborhoods in San Francisco
sanfran_map.choropleth(
    geo_data=geo,
    data=df_crime,
    columns=['Neighborhood', ('Count')],
    key_on='feature.properties.name',
    fill_color='YlOrRd', 
    fill_opacity=0.7, 
    line_opacity=0.2,
    legend_name='Crime Rate in San Francisco'
)

# display map
sanfran_map
